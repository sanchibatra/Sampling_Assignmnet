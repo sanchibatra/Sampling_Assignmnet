{
  "nbformat": 4,
  "nbformat_minor": 0,
  "metadata": {
    "colab": {
      "provenance": []
    },
    "kernelspec": {
      "name": "python3",
      "display_name": "Python 3"
    },
    "language_info": {
      "name": "python"
    }
  },
  "cells": [
    {
      "cell_type": "code",
      "execution_count": 44,
      "metadata": {
        "id": "Bzkf9gu8u55O"
      },
      "outputs": [],
      "source": [
        "import pandas as pd\n",
        "import numpy as np\n",
        "import seaborn as sns\n",
        "import math as m\n",
        "import matplotlib.pyplot as plt\n",
        "from imblearn.over_sampling import SMOTE\n",
        "from sklearn.model_selection import train_test_split\n",
        "from sklearn import metrics\n",
        "from sklearn.ensemble import RandomForestClassifier\n",
        "from sklearn.linear_model import LogisticRegression\n",
        "from sklearn.svm import SVC\n",
        "from sklearn.naive_bayes import GaussianNB\n",
        "from sklearn.metrics import accuracy_score\n",
        "from sklearn.tree import DecisionTreeClassifier\n",
        "from scipy.stats import shapiro\n"
      ]
    },
    {
      "cell_type": "code",
      "source": [
        "df1=pd.read_csv('Creditcard_data.csv')"
      ],
      "metadata": {
        "id": "0OEluLGGw9Wt"
      },
      "execution_count": 103,
      "outputs": []
    },
    {
      "cell_type": "code",
      "source": [
        "df1.head()"
      ],
      "metadata": {
        "colab": {
          "base_uri": "https://localhost:8080/",
          "height": 255
        },
        "id": "8TlSjqdNxpXv",
        "outputId": "3a1e3853-d188-4c18-9a2d-47c1a19c9ec3"
      },
      "execution_count": 104,
      "outputs": [
        {
          "output_type": "execute_result",
          "data": {
            "text/plain": [
              "   Time        V1        V2        V3        V4        V5        V6        V7  \\\n",
              "0     0 -1.359807 -0.072781  2.536347  1.378155 -0.338321  0.462388  0.239599   \n",
              "1     0  1.191857  0.266151  0.166480  0.448154  0.060018 -0.082361 -0.078803   \n",
              "2     1 -1.358354 -1.340163  1.773209  0.379780 -0.503198  1.800499  0.791461   \n",
              "3     1 -0.966272 -0.185226  1.792993 -0.863291 -0.010309  1.247203  0.237609   \n",
              "4     2 -1.158233  0.877737  1.548718  0.403034 -0.407193  0.095921  0.592941   \n",
              "\n",
              "         V8        V9  ...       V21       V22       V23       V24       V25  \\\n",
              "0  0.098698  0.363787  ... -0.018307  0.277838 -0.110474  0.066928  0.128539   \n",
              "1  0.085102 -0.255425  ... -0.225775 -0.638672  0.101288 -0.339846  0.167170   \n",
              "2  0.247676 -1.514654  ...  0.247998  0.771679  0.909412 -0.689281 -0.327642   \n",
              "3  0.377436 -1.387024  ... -0.108300  0.005274 -0.190321 -1.175575  0.647376   \n",
              "4 -0.270533  0.817739  ... -0.009431  0.798278 -0.137458  0.141267 -0.206010   \n",
              "\n",
              "        V26       V27       V28  Amount  Class  \n",
              "0 -0.189115  0.133558 -0.021053  149.62      0  \n",
              "1  0.125895 -0.008983  0.014724    2.69      1  \n",
              "2 -0.139097 -0.055353 -0.059752  378.66      0  \n",
              "3 -0.221929  0.062723  0.061458  123.50      0  \n",
              "4  0.502292  0.219422  0.215153   69.99      0  \n",
              "\n",
              "[5 rows x 31 columns]"
            ],
            "text/html": [
              "\n",
              "  <div id=\"df-6d18f12c-75f8-4b1d-9e26-b40996432a43\" class=\"colab-df-container\">\n",
              "    <div>\n",
              "<style scoped>\n",
              "    .dataframe tbody tr th:only-of-type {\n",
              "        vertical-align: middle;\n",
              "    }\n",
              "\n",
              "    .dataframe tbody tr th {\n",
              "        vertical-align: top;\n",
              "    }\n",
              "\n",
              "    .dataframe thead th {\n",
              "        text-align: right;\n",
              "    }\n",
              "</style>\n",
              "<table border=\"1\" class=\"dataframe\">\n",
              "  <thead>\n",
              "    <tr style=\"text-align: right;\">\n",
              "      <th></th>\n",
              "      <th>Time</th>\n",
              "      <th>V1</th>\n",
              "      <th>V2</th>\n",
              "      <th>V3</th>\n",
              "      <th>V4</th>\n",
              "      <th>V5</th>\n",
              "      <th>V6</th>\n",
              "      <th>V7</th>\n",
              "      <th>V8</th>\n",
              "      <th>V9</th>\n",
              "      <th>...</th>\n",
              "      <th>V21</th>\n",
              "      <th>V22</th>\n",
              "      <th>V23</th>\n",
              "      <th>V24</th>\n",
              "      <th>V25</th>\n",
              "      <th>V26</th>\n",
              "      <th>V27</th>\n",
              "      <th>V28</th>\n",
              "      <th>Amount</th>\n",
              "      <th>Class</th>\n",
              "    </tr>\n",
              "  </thead>\n",
              "  <tbody>\n",
              "    <tr>\n",
              "      <th>0</th>\n",
              "      <td>0</td>\n",
              "      <td>-1.359807</td>\n",
              "      <td>-0.072781</td>\n",
              "      <td>2.536347</td>\n",
              "      <td>1.378155</td>\n",
              "      <td>-0.338321</td>\n",
              "      <td>0.462388</td>\n",
              "      <td>0.239599</td>\n",
              "      <td>0.098698</td>\n",
              "      <td>0.363787</td>\n",
              "      <td>...</td>\n",
              "      <td>-0.018307</td>\n",
              "      <td>0.277838</td>\n",
              "      <td>-0.110474</td>\n",
              "      <td>0.066928</td>\n",
              "      <td>0.128539</td>\n",
              "      <td>-0.189115</td>\n",
              "      <td>0.133558</td>\n",
              "      <td>-0.021053</td>\n",
              "      <td>149.62</td>\n",
              "      <td>0</td>\n",
              "    </tr>\n",
              "    <tr>\n",
              "      <th>1</th>\n",
              "      <td>0</td>\n",
              "      <td>1.191857</td>\n",
              "      <td>0.266151</td>\n",
              "      <td>0.166480</td>\n",
              "      <td>0.448154</td>\n",
              "      <td>0.060018</td>\n",
              "      <td>-0.082361</td>\n",
              "      <td>-0.078803</td>\n",
              "      <td>0.085102</td>\n",
              "      <td>-0.255425</td>\n",
              "      <td>...</td>\n",
              "      <td>-0.225775</td>\n",
              "      <td>-0.638672</td>\n",
              "      <td>0.101288</td>\n",
              "      <td>-0.339846</td>\n",
              "      <td>0.167170</td>\n",
              "      <td>0.125895</td>\n",
              "      <td>-0.008983</td>\n",
              "      <td>0.014724</td>\n",
              "      <td>2.69</td>\n",
              "      <td>1</td>\n",
              "    </tr>\n",
              "    <tr>\n",
              "      <th>2</th>\n",
              "      <td>1</td>\n",
              "      <td>-1.358354</td>\n",
              "      <td>-1.340163</td>\n",
              "      <td>1.773209</td>\n",
              "      <td>0.379780</td>\n",
              "      <td>-0.503198</td>\n",
              "      <td>1.800499</td>\n",
              "      <td>0.791461</td>\n",
              "      <td>0.247676</td>\n",
              "      <td>-1.514654</td>\n",
              "      <td>...</td>\n",
              "      <td>0.247998</td>\n",
              "      <td>0.771679</td>\n",
              "      <td>0.909412</td>\n",
              "      <td>-0.689281</td>\n",
              "      <td>-0.327642</td>\n",
              "      <td>-0.139097</td>\n",
              "      <td>-0.055353</td>\n",
              "      <td>-0.059752</td>\n",
              "      <td>378.66</td>\n",
              "      <td>0</td>\n",
              "    </tr>\n",
              "    <tr>\n",
              "      <th>3</th>\n",
              "      <td>1</td>\n",
              "      <td>-0.966272</td>\n",
              "      <td>-0.185226</td>\n",
              "      <td>1.792993</td>\n",
              "      <td>-0.863291</td>\n",
              "      <td>-0.010309</td>\n",
              "      <td>1.247203</td>\n",
              "      <td>0.237609</td>\n",
              "      <td>0.377436</td>\n",
              "      <td>-1.387024</td>\n",
              "      <td>...</td>\n",
              "      <td>-0.108300</td>\n",
              "      <td>0.005274</td>\n",
              "      <td>-0.190321</td>\n",
              "      <td>-1.175575</td>\n",
              "      <td>0.647376</td>\n",
              "      <td>-0.221929</td>\n",
              "      <td>0.062723</td>\n",
              "      <td>0.061458</td>\n",
              "      <td>123.50</td>\n",
              "      <td>0</td>\n",
              "    </tr>\n",
              "    <tr>\n",
              "      <th>4</th>\n",
              "      <td>2</td>\n",
              "      <td>-1.158233</td>\n",
              "      <td>0.877737</td>\n",
              "      <td>1.548718</td>\n",
              "      <td>0.403034</td>\n",
              "      <td>-0.407193</td>\n",
              "      <td>0.095921</td>\n",
              "      <td>0.592941</td>\n",
              "      <td>-0.270533</td>\n",
              "      <td>0.817739</td>\n",
              "      <td>...</td>\n",
              "      <td>-0.009431</td>\n",
              "      <td>0.798278</td>\n",
              "      <td>-0.137458</td>\n",
              "      <td>0.141267</td>\n",
              "      <td>-0.206010</td>\n",
              "      <td>0.502292</td>\n",
              "      <td>0.219422</td>\n",
              "      <td>0.215153</td>\n",
              "      <td>69.99</td>\n",
              "      <td>0</td>\n",
              "    </tr>\n",
              "  </tbody>\n",
              "</table>\n",
              "<p>5 rows × 31 columns</p>\n",
              "</div>\n",
              "    <div class=\"colab-df-buttons\">\n",
              "\n",
              "  <div class=\"colab-df-container\">\n",
              "    <button class=\"colab-df-convert\" onclick=\"convertToInteractive('df-6d18f12c-75f8-4b1d-9e26-b40996432a43')\"\n",
              "            title=\"Convert this dataframe to an interactive table.\"\n",
              "            style=\"display:none;\">\n",
              "\n",
              "  <svg xmlns=\"http://www.w3.org/2000/svg\" height=\"24px\" viewBox=\"0 -960 960 960\">\n",
              "    <path d=\"M120-120v-720h720v720H120Zm60-500h600v-160H180v160Zm220 220h160v-160H400v160Zm0 220h160v-160H400v160ZM180-400h160v-160H180v160Zm440 0h160v-160H620v160ZM180-180h160v-160H180v160Zm440 0h160v-160H620v160Z\"/>\n",
              "  </svg>\n",
              "    </button>\n",
              "\n",
              "  <style>\n",
              "    .colab-df-container {\n",
              "      display:flex;\n",
              "      gap: 12px;\n",
              "    }\n",
              "\n",
              "    .colab-df-convert {\n",
              "      background-color: #E8F0FE;\n",
              "      border: none;\n",
              "      border-radius: 50%;\n",
              "      cursor: pointer;\n",
              "      display: none;\n",
              "      fill: #1967D2;\n",
              "      height: 32px;\n",
              "      padding: 0 0 0 0;\n",
              "      width: 32px;\n",
              "    }\n",
              "\n",
              "    .colab-df-convert:hover {\n",
              "      background-color: #E2EBFA;\n",
              "      box-shadow: 0px 1px 2px rgba(60, 64, 67, 0.3), 0px 1px 3px 1px rgba(60, 64, 67, 0.15);\n",
              "      fill: #174EA6;\n",
              "    }\n",
              "\n",
              "    .colab-df-buttons div {\n",
              "      margin-bottom: 4px;\n",
              "    }\n",
              "\n",
              "    [theme=dark] .colab-df-convert {\n",
              "      background-color: #3B4455;\n",
              "      fill: #D2E3FC;\n",
              "    }\n",
              "\n",
              "    [theme=dark] .colab-df-convert:hover {\n",
              "      background-color: #434B5C;\n",
              "      box-shadow: 0px 1px 3px 1px rgba(0, 0, 0, 0.15);\n",
              "      filter: drop-shadow(0px 1px 2px rgba(0, 0, 0, 0.3));\n",
              "      fill: #FFFFFF;\n",
              "    }\n",
              "  </style>\n",
              "\n",
              "    <script>\n",
              "      const buttonEl =\n",
              "        document.querySelector('#df-6d18f12c-75f8-4b1d-9e26-b40996432a43 button.colab-df-convert');\n",
              "      buttonEl.style.display =\n",
              "        google.colab.kernel.accessAllowed ? 'block' : 'none';\n",
              "\n",
              "      async function convertToInteractive(key) {\n",
              "        const element = document.querySelector('#df-6d18f12c-75f8-4b1d-9e26-b40996432a43');\n",
              "        const dataTable =\n",
              "          await google.colab.kernel.invokeFunction('convertToInteractive',\n",
              "                                                    [key], {});\n",
              "        if (!dataTable) return;\n",
              "\n",
              "        const docLinkHtml = 'Like what you see? Visit the ' +\n",
              "          '<a target=\"_blank\" href=https://colab.research.google.com/notebooks/data_table.ipynb>data table notebook</a>'\n",
              "          + ' to learn more about interactive tables.';\n",
              "        element.innerHTML = '';\n",
              "        dataTable['output_type'] = 'display_data';\n",
              "        await google.colab.output.renderOutput(dataTable, element);\n",
              "        const docLink = document.createElement('div');\n",
              "        docLink.innerHTML = docLinkHtml;\n",
              "        element.appendChild(docLink);\n",
              "      }\n",
              "    </script>\n",
              "  </div>\n",
              "\n",
              "\n",
              "<div id=\"df-dc8b5d0e-5122-45c9-8433-ac194a7c9470\">\n",
              "  <button class=\"colab-df-quickchart\" onclick=\"quickchart('df-dc8b5d0e-5122-45c9-8433-ac194a7c9470')\"\n",
              "            title=\"Suggest charts\"\n",
              "            style=\"display:none;\">\n",
              "\n",
              "<svg xmlns=\"http://www.w3.org/2000/svg\" height=\"24px\"viewBox=\"0 0 24 24\"\n",
              "     width=\"24px\">\n",
              "    <g>\n",
              "        <path d=\"M19 3H5c-1.1 0-2 .9-2 2v14c0 1.1.9 2 2 2h14c1.1 0 2-.9 2-2V5c0-1.1-.9-2-2-2zM9 17H7v-7h2v7zm4 0h-2V7h2v10zm4 0h-2v-4h2v4z\"/>\n",
              "    </g>\n",
              "</svg>\n",
              "  </button>\n",
              "\n",
              "<style>\n",
              "  .colab-df-quickchart {\n",
              "      --bg-color: #E8F0FE;\n",
              "      --fill-color: #1967D2;\n",
              "      --hover-bg-color: #E2EBFA;\n",
              "      --hover-fill-color: #174EA6;\n",
              "      --disabled-fill-color: #AAA;\n",
              "      --disabled-bg-color: #DDD;\n",
              "  }\n",
              "\n",
              "  [theme=dark] .colab-df-quickchart {\n",
              "      --bg-color: #3B4455;\n",
              "      --fill-color: #D2E3FC;\n",
              "      --hover-bg-color: #434B5C;\n",
              "      --hover-fill-color: #FFFFFF;\n",
              "      --disabled-bg-color: #3B4455;\n",
              "      --disabled-fill-color: #666;\n",
              "  }\n",
              "\n",
              "  .colab-df-quickchart {\n",
              "    background-color: var(--bg-color);\n",
              "    border: none;\n",
              "    border-radius: 50%;\n",
              "    cursor: pointer;\n",
              "    display: none;\n",
              "    fill: var(--fill-color);\n",
              "    height: 32px;\n",
              "    padding: 0;\n",
              "    width: 32px;\n",
              "  }\n",
              "\n",
              "  .colab-df-quickchart:hover {\n",
              "    background-color: var(--hover-bg-color);\n",
              "    box-shadow: 0 1px 2px rgba(60, 64, 67, 0.3), 0 1px 3px 1px rgba(60, 64, 67, 0.15);\n",
              "    fill: var(--button-hover-fill-color);\n",
              "  }\n",
              "\n",
              "  .colab-df-quickchart-complete:disabled,\n",
              "  .colab-df-quickchart-complete:disabled:hover {\n",
              "    background-color: var(--disabled-bg-color);\n",
              "    fill: var(--disabled-fill-color);\n",
              "    box-shadow: none;\n",
              "  }\n",
              "\n",
              "  .colab-df-spinner {\n",
              "    border: 2px solid var(--fill-color);\n",
              "    border-color: transparent;\n",
              "    border-bottom-color: var(--fill-color);\n",
              "    animation:\n",
              "      spin 1s steps(1) infinite;\n",
              "  }\n",
              "\n",
              "  @keyframes spin {\n",
              "    0% {\n",
              "      border-color: transparent;\n",
              "      border-bottom-color: var(--fill-color);\n",
              "      border-left-color: var(--fill-color);\n",
              "    }\n",
              "    20% {\n",
              "      border-color: transparent;\n",
              "      border-left-color: var(--fill-color);\n",
              "      border-top-color: var(--fill-color);\n",
              "    }\n",
              "    30% {\n",
              "      border-color: transparent;\n",
              "      border-left-color: var(--fill-color);\n",
              "      border-top-color: var(--fill-color);\n",
              "      border-right-color: var(--fill-color);\n",
              "    }\n",
              "    40% {\n",
              "      border-color: transparent;\n",
              "      border-right-color: var(--fill-color);\n",
              "      border-top-color: var(--fill-color);\n",
              "    }\n",
              "    60% {\n",
              "      border-color: transparent;\n",
              "      border-right-color: var(--fill-color);\n",
              "    }\n",
              "    80% {\n",
              "      border-color: transparent;\n",
              "      border-right-color: var(--fill-color);\n",
              "      border-bottom-color: var(--fill-color);\n",
              "    }\n",
              "    90% {\n",
              "      border-color: transparent;\n",
              "      border-bottom-color: var(--fill-color);\n",
              "    }\n",
              "  }\n",
              "</style>\n",
              "\n",
              "  <script>\n",
              "    async function quickchart(key) {\n",
              "      const quickchartButtonEl =\n",
              "        document.querySelector('#' + key + ' button');\n",
              "      quickchartButtonEl.disabled = true;  // To prevent multiple clicks.\n",
              "      quickchartButtonEl.classList.add('colab-df-spinner');\n",
              "      try {\n",
              "        const charts = await google.colab.kernel.invokeFunction(\n",
              "            'suggestCharts', [key], {});\n",
              "      } catch (error) {\n",
              "        console.error('Error during call to suggestCharts:', error);\n",
              "      }\n",
              "      quickchartButtonEl.classList.remove('colab-df-spinner');\n",
              "      quickchartButtonEl.classList.add('colab-df-quickchart-complete');\n",
              "    }\n",
              "    (() => {\n",
              "      let quickchartButtonEl =\n",
              "        document.querySelector('#df-dc8b5d0e-5122-45c9-8433-ac194a7c9470 button');\n",
              "      quickchartButtonEl.style.display =\n",
              "        google.colab.kernel.accessAllowed ? 'block' : 'none';\n",
              "    })();\n",
              "  </script>\n",
              "</div>\n",
              "\n",
              "    </div>\n",
              "  </div>\n"
            ]
          },
          "metadata": {},
          "execution_count": 104
        }
      ]
    },
    {
      "cell_type": "code",
      "source": [
        "#Imbalanced dataset\n",
        "df1['Class'].value_counts()"
      ],
      "metadata": {
        "colab": {
          "base_uri": "https://localhost:8080/"
        },
        "id": "eqEfa33kx2vY",
        "outputId": "0b6774b2-5634-4d22-858c-63aefb9fcec9"
      },
      "execution_count": 105,
      "outputs": [
        {
          "output_type": "execute_result",
          "data": {
            "text/plain": [
              "0    763\n",
              "1      9\n",
              "Name: Class, dtype: int64"
            ]
          },
          "metadata": {},
          "execution_count": 105
        }
      ]
    },
    {
      "cell_type": "code",
      "source": [
        "sns.countplot(x='Class',data=df1)\n",
        "plt.title('Class Distribution')\n",
        "plt.xlabel('Class')\n",
        "plt.ylabel('Count')\n",
        "plt.show()"
      ],
      "metadata": {
        "colab": {
          "base_uri": "https://localhost:8080/",
          "height": 472
        },
        "id": "keDqWa-iyaA-",
        "outputId": "9077f1f3-5c66-41f9-b200-e005f4f6c80c"
      },
      "execution_count": 106,
      "outputs": [
        {
          "output_type": "display_data",
          "data": {
            "text/plain": [
              "<Figure size 640x480 with 1 Axes>"
            ],
            "image/png": "[encoded data removed]"
          },
          "metadata": {}
        }
      ]
    },
    {
      "cell_type": "code",
      "source": [
        "#Separating features and target variable\n",
        "X=df1.drop('Class',axis=1)\n",
        "y=df1['Class']\n"
      ],
      "metadata": {
        "id": "SkJ1EJkPzXkq"
      },
      "execution_count": 107,
      "outputs": []
    },
    {
      "cell_type": "code",
      "source": [
        "smote=SMOTE(sampling_strategy='minority')\n",
        "X_resampled,y_resampled=smote.fit_resample(X,y)"
      ],
      "metadata": {
        "id": "QJroKNdG5Iln"
      },
      "execution_count": 108,
      "outputs": []
    },
    {
      "cell_type": "code",
      "source": [
        "#Splitting the data into training and testing sets\n",
        "X_train,X_test,y_train,y_test=train_test_split(X_resampled,y_resampled,test_size=0.2,random_state=42)"
      ],
      "metadata": {
        "id": "2l34QkzT0WGN"
      },
      "execution_count": 109,
      "outputs": []
    },
    {
      "cell_type": "code",
      "source": [
        "sns.countplot(x=y_resampled)\n",
        "plt.title('Class Distribution After SMOTE')\n",
        "plt.xlabel('Class')\n",
        "plt.ylabel('Count')\n",
        "plt.show()"
      ],
      "metadata": {
        "colab": {
          "base_uri": "https://localhost:8080/",
          "height": 472
        },
        "id": "xljTIR2q3B_D",
        "outputId": "61970fae-eaa5-480d-9e38-3a227c0bf4d2"
      },
      "execution_count": 92,
      "outputs": [
        {
          "output_type": "display_data",
          "data": {
            "text/plain": [
              "<Figure size 640x480 with 1 Axes>"
            ],
            "image/png": "[encoded data removed]"
          },
          "metadata": {}
        }
      ]
    },
    {
      "cell_type": "code",
      "source": [
        "df2=pd.DataFrame(X_resampled)\n",
        "df2['Class']=y_resampled"
      ],
      "metadata": {
        "id": "t-YyVzIW3zE6"
      },
      "execution_count": 111,
      "outputs": []
    },
    {
      "cell_type": "code",
      "source": [
        "df2['Class'].value_counts()"
      ],
      "metadata": {
        "colab": {
          "base_uri": "https://localhost:8080/"
        },
        "id": "dbIBUGgs4ZWq",
        "outputId": "7a566f7e-e98d-4226-eb79-deae7d797ede"
      },
      "execution_count": 112,
      "outputs": [
        {
          "output_type": "execute_result",
          "data": {
            "text/plain": [
              "0    763\n",
              "1    763\n",
              "Name: Class, dtype: int64"
            ]
          },
          "metadata": {},
          "execution_count": 112
        }
      ]
    },
    {
      "cell_type": "code",
      "source": [
        "#Simple Random Sampling\n",
        "import math\n",
        "\n",
        "z=1.96\n",
        "p=0.5\n",
        "E=0.05\n",
        "\n",
        "Sample_size=math.ceil((z**2 * p * (1-p))/(E**2))\n",
        "\n",
        "samples=[]\n",
        "s1=df2.sample(n=Sample_size,random_state=0)\n",
        "\n",
        "samples.append(s1)\n",
        "class_count=s1['Class'].value_counts()\n",
        "print(class_count)"
      ],
      "metadata": {
        "colab": {
          "base_uri": "https://localhost:8080/"
        },
        "id": "6nM7yq2d4GDc",
        "outputId": "c7cac6be-5297-4c61-946e-20ef926a4bf4"
      },
      "execution_count": 110,
      "outputs": [
        {
          "output_type": "stream",
          "name": "stdout",
          "text": [
            "0    200\n",
            "1    185\n",
            "Name: Class, dtype: int64\n"
          ]
        }
      ]
    },
    {
      "cell_type": "code",
      "source": [
        "#Systematic Sampling\n",
        "\n",
        "N=len(df2)\n",
        "k=int(m.sqrt(N))\n",
        "s2=df2.iloc[::k]\n",
        "samples.append(s2)\n",
        "class_count=s2['Class'].value_counts()\n",
        "print(class_count)"
      ],
      "metadata": {
        "colab": {
          "base_uri": "https://localhost:8080/"
        },
        "id": "W1GH-vuA-y0d",
        "outputId": "78b22915-0e8d-423b-e4c0-b8cecee7b02b"
      },
      "execution_count": 113,
      "outputs": [
        {
          "output_type": "stream",
          "name": "stdout",
          "text": [
            "0    20\n",
            "1    20\n",
            "Name: Class, dtype: int64\n"
          ]
        }
      ]
    },
    {
      "cell_type": "code",
      "source": [
        "# Cluster Sampling\n",
        "\n",
        "import math\n",
        "\n",
        "z=1.96\n",
        "p=0.5\n",
        "E=0.05\n",
        "C=1.5\n",
        "sample_size=round((z**2*p*(1-p))/((E/C)**2))\n",
        "clusters=2\n",
        "df_new=df2\n",
        "N = len(df2)\n",
        "K = int(N/sample_size)\n",
        "data = None\n",
        "for k in range(K):\n",
        "    sample_k = df_new.sample(sample_size)\n",
        "    sample_k[\"cluster\"] = np.repeat(k,len(sample_k))\n",
        "    df_new = df_new.drop(index = sample_k.index)\n",
        "    data = pd.concat([data,sample_k],axis = 0)\n",
        "\n",
        "random_chosen_clusters = np.random.randint(0,K,size = clusters)\n",
        "s3 = data[data.cluster.isin(random_chosen_clusters)]\n",
        "s3.drop(['cluster'], axis=1, inplace=True)\n",
        "samples.append(s3)\n",
        "s3['Class'].value_counts()"
      ],
      "metadata": {
        "colab": {
          "base_uri": "https://localhost:8080/"
        },
        "id": "ODAiLfvP7AbL",
        "outputId": "73609933-d932-4aac-f8eb-93cb86dc9393"
      },
      "execution_count": 114,
      "outputs": [
        {
          "output_type": "execute_result",
          "data": {
            "text/plain": [
              "0    437\n",
              "1    427\n",
              "Name: Class, dtype: int64"
            ]
          },
          "metadata": {},
          "execution_count": 114
        }
      ]
    },
    {
      "cell_type": "code",
      "source": [
        "#Stratified Sampling\n",
        "\n",
        "z=1.96\n",
        "p=0.5\n",
        "E=0.05\n",
        "S=0.7\n",
        "\n",
        "sample_size = round((z**2 * p * (1 - p)) / ((E / S)**2))\n",
        "\n",
        "s4=df2.groupby('Class',group_keys=False).apply(lambda x:x.sample(sample_size))\n",
        "samples.append(s4)\n",
        "\n",
        "class_count=s4['Class'].value_counts()\n",
        "print(class_count)\n"
      ],
      "metadata": {
        "colab": {
          "base_uri": "https://localhost:8080/"
        },
        "id": "71PuLOFU_Tit",
        "outputId": "f881be63-c5ef-483d-8033-990a9ed7da57"
      },
      "execution_count": 115,
      "outputs": [
        {
          "output_type": "stream",
          "name": "stdout",
          "text": [
            "0    188\n",
            "1    188\n",
            "Name: Class, dtype: int64\n"
          ]
        }
      ]
    },
    {
      "cell_type": "code",
      "source": [
        "# Convenience Sampling\n",
        "\n",
        "s5=df2.head(350)\n",
        "samples.append(s5)\n",
        "s5['Class'].value_counts()"
      ],
      "metadata": {
        "colab": {
          "base_uri": "https://localhost:8080/"
        },
        "id": "M0apaHlkHtcb",
        "outputId": "dfe9f6ec-6b07-4d04-c6ff-70bb8e7db5df"
      },
      "execution_count": 133,
      "outputs": [
        {
          "output_type": "execute_result",
          "data": {
            "text/plain": [
              "0    347\n",
              "1      3\n",
              "Name: Class, dtype: int64"
            ]
          },
          "metadata": {},
          "execution_count": 133
        }
      ]
    },
    {
      "cell_type": "code",
      "source": [
        "# Check goodness of each sample using Shapiro-Wilk test\n",
        "\n",
        "for i in range(5):\n",
        "  print(shapiro(samples[i]))"
      ],
      "metadata": {
        "colab": {
          "base_uri": "https://localhost:8080/"
        },
        "id": "sG_0U0oDH4cH",
        "outputId": "01384ba6-267d-4ef1-e96c-499deca3601a"
      },
      "execution_count": 134,
      "outputs": [
        {
          "output_type": "stream",
          "name": "stdout",
          "text": [
            "ShapiroResult(statistic=0.1726665496826172, pvalue=0.0)\n",
            "ShapiroResult(statistic=0.17207157611846924, pvalue=0.0)\n",
            "ShapiroResult(statistic=0.17338907718658447, pvalue=0.0)\n",
            "ShapiroResult(statistic=0.175278902053833, pvalue=0.0)\n",
            "ShapiroResult(statistic=0.09570896625518799, pvalue=0.0)\n"
          ]
        },
        {
          "output_type": "stream",
          "name": "stderr",
          "text": [
            "/usr/local/lib/python3.10/dist-packages/scipy/stats/_morestats.py:1882: UserWarning: p-value may not be accurate for N > 5000.\n",
            "  warnings.warn(\"p-value may not be accurate for N > 5000.\")\n"
          ]
        }
      ]
    },
    {
      "cell_type": "code",
      "source": [
        "Sampling=['Simple-Random','Systematic','Cluster','Stratified','Convenience']\n",
        "ans=pd.DataFrame(columns=Sampling, index=['SVM','Decision Tree','Random Forest','Logistic Regression','Naive Bayes'])"
      ],
      "metadata": {
        "id": "DEOU2uNGK0M5"
      },
      "execution_count": 135,
      "outputs": []
    },
    {
      "cell_type": "code",
      "source": [
        "for i in range(5):\n",
        "  j=0\n",
        "  x_s=samples[i].drop('Class',axis=1)\n",
        "  y_s=samples[i]['Class']\n",
        "  xtrain, xtest, y_train, y_test = train_test_split(x_s ,y_s , random_state=104,test_size=0.25, shuffle=True)\n",
        "\n",
        "  # SVM\n",
        "\n",
        "  clf = SVC(kernel='rbf')\n",
        "  clf.fit(xtrain, y_train)\n",
        "  y_pred=clf.predict(xtest)\n",
        "  acc = accuracy_score(y_test, y_pred)\n",
        "  ans.iloc[j,i]=acc*100\n",
        "\n",
        "  #  Decision Tree\n",
        "  classifier = DecisionTreeClassifier(criterion = 'entropy', random_state = 0)\n",
        "  classifier.fit(xtrain, y_train)\n",
        "  y_pred = classifier.predict(xtest)\n",
        "  acc = accuracy_score(y_test, y_pred)\n",
        "  ans.iloc[j+2,i]=acc*100\n",
        "\n",
        "\n",
        "  # RandomForest Classifier\n",
        "\n",
        "  clf = RandomForestClassifier(n_estimators = 100)\n",
        "  clf.fit(xtrain, y_train)\n",
        "  y_pred = clf.predict(xtest)\n",
        "  acc = accuracy_score(y_test, y_pred)\n",
        "  ans.iloc[j+3,i]=acc*100\n",
        "\n",
        "  #  Logistic Regression\n",
        "\n",
        "  classifier = LogisticRegression(random_state = 0,max_iter=2000)\n",
        "  classifier.fit(xtrain, y_train)\n",
        "  y_pred = classifier.predict(xtest)\n",
        "  acc = accuracy_score(y_test, y_pred)\n",
        "  ans.iloc[j+1,i]=acc*100\n",
        "\n",
        "\n",
        "  # Applying Naive bayes\n",
        "\n",
        "  model = GaussianNB()\n",
        "  model.fit(xtrain,y_train)\n",
        "  predicted= model.predict(xtest)\n",
        "  acc = accuracy_score(y_test, y_pred)\n",
        "  ans.iloc[j+4,i]=acc*100\n",
        "\n",
        "print(ans)\n"
      ],
      "metadata": {
        "colab": {
          "base_uri": "https://localhost:8080/"
        },
        "id": "HEx3BMWYJw2B",
        "outputId": "da691d98-02dc-41df-91cb-cd00c933db6e"
      },
      "execution_count": 136,
      "outputs": [
        {
          "output_type": "stream",
          "name": "stdout",
          "text": [
            "                    Simple-Random Systematic    Cluster Stratified Convenience\n",
            "SVM                     71.134021       60.0  66.666667  61.702128   97.727273\n",
            "Decision Tree           90.721649       70.0  90.740741  93.617021   97.727273\n",
            "Random Forest           89.690722       90.0  97.685185  90.425532   94.318182\n",
            "Logistic Regression     96.907216       60.0  99.074074      100.0   97.727273\n",
            "Naive Bayes             90.721649       70.0  90.740741  93.617021   97.727273\n"
          ]
        }
      ]
    },
    {
      "cell_type": "code",
      "source": [
        "def highlight_max(s):\n",
        "    is_max = s == s.max()\n",
        "    return ['background-color: green' if v else '' for v in is_max]\n",
        "\n",
        "ans.style.apply(highlight_max, axis=1)\n"
      ],
      "metadata": {
        "colab": {
          "base_uri": "https://localhost:8080/",
          "height": 206
        },
        "id": "vHhlgoxqL6qT",
        "outputId": "27d8372e-8fd5-468c-8820-0391654d7f13"
      },
      "execution_count": 132,
      "outputs": [
        {
          "output_type": "execute_result",
          "data": {
            "text/plain": [
              "<pandas.io.formats.style.Styler at 0x7e0aa8bc5360>"
            ],
            "text/html": [
              "<style type=\"text/css\">\n",
              "#T_7090c_row0_col4, #T_7090c_row1_col4, #T_7090c_row2_col2, #T_7090c_row3_col3, #T_7090c_row4_col4 {\n",
              "  background-color: green;\n",
              "}\n",
              "</style>\n",
              "<table id=\"T_7090c\" class=\"dataframe\">\n",
              "  <thead>\n",
              "    <tr>\n",
              "      <th class=\"blank level0\" >&nbsp;</th>\n",
              "      <th id=\"T_7090c_level0_col0\" class=\"col_heading level0 col0\" >Simple-Random</th>\n",
              "      <th id=\"T_7090c_level0_col1\" class=\"col_heading level0 col1\" >Systematic</th>\n",
              "      <th id=\"T_7090c_level0_col2\" class=\"col_heading level0 col2\" >Cluster</th>\n",
              "      <th id=\"T_7090c_level0_col3\" class=\"col_heading level0 col3\" >Stratified</th>\n",
              "      <th id=\"T_7090c_level0_col4\" class=\"col_heading level0 col4\" >Convenience</th>\n",
              "    </tr>\n",
              "  </thead>\n",
              "  <tbody>\n",
              "    <tr>\n",
              "      <th id=\"T_7090c_level0_row0\" class=\"row_heading level0 row0\" >SVM</th>\n",
              "      <td id=\"T_7090c_row0_col0\" class=\"data row0 col0\" >71.134021</td>\n",
              "      <td id=\"T_7090c_row0_col1\" class=\"data row0 col1\" >60.000000</td>\n",
              "      <td id=\"T_7090c_row0_col2\" class=\"data row0 col2\" >66.666667</td>\n",
              "      <td id=\"T_7090c_row0_col3\" class=\"data row0 col3\" >61.702128</td>\n",
              "      <td id=\"T_7090c_row0_col4\" class=\"data row0 col4\" >97.727273</td>\n",
              "    </tr>\n",
              "    <tr>\n",
              "      <th id=\"T_7090c_level0_row1\" class=\"row_heading level0 row1\" >Decision Tree</th>\n",
              "      <td id=\"T_7090c_row1_col0\" class=\"data row1 col0\" >90.721649</td>\n",
              "      <td id=\"T_7090c_row1_col1\" class=\"data row1 col1\" >70.000000</td>\n",
              "      <td id=\"T_7090c_row1_col2\" class=\"data row1 col2\" >90.740741</td>\n",
              "      <td id=\"T_7090c_row1_col3\" class=\"data row1 col3\" >93.617021</td>\n",
              "      <td id=\"T_7090c_row1_col4\" class=\"data row1 col4\" >97.727273</td>\n",
              "    </tr>\n",
              "    <tr>\n",
              "      <th id=\"T_7090c_level0_row2\" class=\"row_heading level0 row2\" >Random Forest</th>\n",
              "      <td id=\"T_7090c_row2_col0\" class=\"data row2 col0\" >89.690722</td>\n",
              "      <td id=\"T_7090c_row2_col1\" class=\"data row2 col1\" >90.000000</td>\n",
              "      <td id=\"T_7090c_row2_col2\" class=\"data row2 col2\" >97.685185</td>\n",
              "      <td id=\"T_7090c_row2_col3\" class=\"data row2 col3\" >90.425532</td>\n",
              "      <td id=\"T_7090c_row2_col4\" class=\"data row2 col4\" >94.318182</td>\n",
              "    </tr>\n",
              "    <tr>\n",
              "      <th id=\"T_7090c_level0_row3\" class=\"row_heading level0 row3\" >Logistic Regression</th>\n",
              "      <td id=\"T_7090c_row3_col0\" class=\"data row3 col0\" >96.907216</td>\n",
              "      <td id=\"T_7090c_row3_col1\" class=\"data row3 col1\" >80.000000</td>\n",
              "      <td id=\"T_7090c_row3_col2\" class=\"data row3 col2\" >99.074074</td>\n",
              "      <td id=\"T_7090c_row3_col3\" class=\"data row3 col3\" >100.000000</td>\n",
              "      <td id=\"T_7090c_row3_col4\" class=\"data row3 col4\" >97.727273</td>\n",
              "    </tr>\n",
              "    <tr>\n",
              "      <th id=\"T_7090c_level0_row4\" class=\"row_heading level0 row4\" >Naive Bayes</th>\n",
              "      <td id=\"T_7090c_row4_col0\" class=\"data row4 col0\" >90.721649</td>\n",
              "      <td id=\"T_7090c_row4_col1\" class=\"data row4 col1\" >70.000000</td>\n",
              "      <td id=\"T_7090c_row4_col2\" class=\"data row4 col2\" >90.740741</td>\n",
              "      <td id=\"T_7090c_row4_col3\" class=\"data row4 col3\" >93.617021</td>\n",
              "      <td id=\"T_7090c_row4_col4\" class=\"data row4 col4\" >97.727273</td>\n",
              "    </tr>\n",
              "  </tbody>\n",
              "</table>\n"
            ]
          },
          "metadata": {},
          "execution_count": 132
        }
      ]
    }
  ]
}